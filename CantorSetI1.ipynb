{
  "nbformat": 4,
  "nbformat_minor": 0,
  "metadata": {
    "colab": {
      "name": "CantorSetI1.ipynb",
      "provenance": [],
      "collapsed_sections": []
    },
    "kernelspec": {
      "name": "python3",
      "display_name": "Python 3"
    }
  },
  "cells": [
    {
      "cell_type": "markdown",
      "metadata": {
        "id": "E9hREnrdJBQz",
        "colab_type": "text"
      },
      "source": [
        "Construct the Cantor set using Numpy"
      ]
    },
    {
      "cell_type": "code",
      "metadata": {
        "id": "xPAaD9SaI9-1",
        "colab_type": "code",
        "colab": {}
      },
      "source": [
        "import numpy as np\n",
        "import matplotlib.pyplot as plt\n",
        "m = 2 #dept of the set\n",
        "unit_interval = [0,1] #unit interval to divide"
      ],
      "execution_count": 0,
      "outputs": []
    },
    {
      "cell_type": "markdown",
      "metadata": {
        "id": "tPxY1QvQJcqS",
        "colab_type": "text"
      },
      "source": [
        "Define the recursive function to divide in the given interval"
      ]
    },
    {
      "cell_type": "code",
      "metadata": {
        "id": "jIOfcSjzJkJK",
        "colab_type": "code",
        "colab": {}
      },
      "source": [
        "def divide(interval, level=0):\n",
        "  '''\n",
        "  Divide a unit interval into thirds for the Cantor set.\n",
        "  Assumes the interval are the end point of the segment to be divided\n",
        "  '''\n",
        "  plt.plot(interval, [level,level], lw='1', color='b')\n",
        "  segments = np.linspace(interval[0], interval[1], 4)\n",
        "  print(segments)\n",
        "  if level<m:\n",
        "    divide(segments[:2], level+1)\n",
        "    divide(segments[2:], level+1)"
      ],
      "execution_count": 0,
      "outputs": []
    },
    {
      "cell_type": "markdown",
      "metadata": {
        "id": "8u36ccBgKK_H",
        "colab_type": "text"
      },
      "source": [
        "Run the division of the interval"
      ]
    },
    {
      "cell_type": "code",
      "metadata": {
        "id": "MHm2wK4OKN7f",
        "colab_type": "code",
        "outputId": "6ca1712c-5ef4-457c-b69b-8879995d050c",
        "colab": {
          "base_uri": "https://localhost:8080/",
          "height": 388
        }
      },
      "source": [
        "divide(unit_interval)"
      ],
      "execution_count": 0,
      "outputs": [
        {
          "output_type": "stream",
          "text": [
            "[0.         0.33333333 0.66666667 1.        ]\n",
            "[0.         0.11111111 0.22222222 0.33333333]\n",
            "[0.         0.03703704 0.07407407 0.11111111]\n",
            "[0.22222222 0.25925926 0.2962963  0.33333333]\n",
            "[0.66666667 0.77777778 0.88888889 1.        ]\n",
            "[0.66666667 0.7037037  0.74074074 0.77777778]\n",
            "[0.88888889 0.92592593 0.96296296 1.        ]\n"
          ],
          "name": "stdout"
        },
        {
          "output_type": "display_data",
          "data": {
            "image/png": "[encoded data removed]",
            "text/plain": [
              "<Figure size 432x288 with 1 Axes>"
            ]
          },
          "metadata": {
            "tags": []
          }
        }
      ]
    },
    {
      "cell_type": "code",
      "metadata": {
        "id": "BCCSJO1FKUgX",
        "colab_type": "code",
        "colab": {}
      },
      "source": [
        ""
      ],
      "execution_count": 0,
      "outputs": []
    }
  ]
}