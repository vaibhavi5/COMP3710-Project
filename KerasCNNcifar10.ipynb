{
  "nbformat": 4,
  "nbformat_minor": 0,
  "metadata": {
    "colab": {
      "name": "KerasCNNcifar10.ipynb",
      "provenance": [],
      "collapsed_sections": []
    },
    "kernelspec": {
      "name": "python3",
      "display_name": "Python 3"
    },
    "accelerator": "GPU"
  },
  "cells": [
    {
      "cell_type": "code",
      "metadata": {
        "id": "EKgMJV1BNQ3D",
        "colab_type": "code",
        "outputId": "1b00c556-130a-4e94-9a78-0d43d3b97107",
        "colab": {
          "base_uri": "https://localhost:8080/",
          "height": 34
        }
      },
      "source": [
        "from __future__ import print_function\n",
        "import keras\n",
        "import numpy as np\n",
        "from keras import optimizers\n",
        "from keras.datasets import cifar10\n",
        "from keras.preprocessing.image import ImageDataGenerator\n",
        "from keras.models import Sequential\n",
        "from keras.layers import Dense, Dropout, Activation, Flatten\n",
        "from keras.layers import Conv2D, MaxPooling2D\n",
        "import os"
      ],
      "execution_count": 0,
      "outputs": [
        {
          "output_type": "stream",
          "text": [
            "Using TensorFlow backend.\n"
          ],
          "name": "stderr"
        }
      ]
    },
    {
      "cell_type": "code",
      "metadata": {
        "id": "-fBDBjB4PUn2",
        "colab_type": "code",
        "colab": {}
      },
      "source": [
        "batch_size = 256\n",
        "num_classes = 10\n",
        "epochs = 55\n",
        "data_augmentation = True\n",
        "num_predictions = 20\n",
        "save_dir = os.path.join(os.getcwd(), 'saved_models')\n",
        "model_name = 'keras_cifar10_trained_model.h5'"
      ],
      "execution_count": 0,
      "outputs": []
    },
    {
      "cell_type": "code",
      "metadata": {
        "id": "kvGYKPr6Pxnz",
        "colab_type": "code",
        "outputId": "399e329c-8501-4a89-9631-4b2f3d2eb1a9",
        "colab": {
          "base_uri": "https://localhost:8080/",
          "height": 102
        }
      },
      "source": [
        "# The data, split between train and test sets:\n",
        "(x_train, y_train), (x_test, y_test) = cifar10.load_data()\n",
        "print('x_train shape:', x_train.shape)\n",
        "print(x_train.shape[0], 'train samples')\n",
        "print(x_test.shape[0], 'test samples')"
      ],
      "execution_count": 0,
      "outputs": [
        {
          "output_type": "stream",
          "text": [
            "Downloading data from https://www.cs.toronto.edu/~kriz/cifar-10-python.tar.gz\n",
            "170500096/170498071 [==============================] - 3s 0us/step\n",
            "x_train shape: (50000, 32, 32, 3)\n",
            "50000 train samples\n",
            "10000 test samples\n"
          ],
          "name": "stdout"
        }
      ]
    },
    {
      "cell_type": "code",
      "metadata": {
        "id": "URqMZmezTOrw",
        "colab_type": "code",
        "colab": {}
      },
      "source": [
        "# Convert class vectors to binary class matrices.\n",
        "y_train = keras.utils.to_categorical(y_train, num_classes)\n",
        "y_test = keras.utils.to_categorical(y_test, num_classes)"
      ],
      "execution_count": 0,
      "outputs": []
    },
    {
      "cell_type": "code",
      "metadata": {
        "id": "yG9AfXjHcNJT",
        "colab_type": "code",
        "outputId": "8b59d738-fa1e-455a-a35f-8beda057dffe",
        "colab": {
          "base_uri": "https://localhost:8080/",
          "height": 938
        }
      },
      "source": [
        "model = Sequential()\n",
        "model.add(Conv2D(32, (3, 3),\n",
        "                 input_shape=x_train.shape[1:]))\n",
        "model.add(Activation('relu'))\n",
        "model.add(MaxPooling2D(pool_size=(2, 2)))\n",
        "model.add(Conv2D(64, (3, 3)))\n",
        "model.add(Activation('relu'))\n",
        "model.add(MaxPooling2D(pool_size=(2, 2)))\n",
        "model.add(Dropout(0.25))\n",
        "\n",
        "model.add(Conv2D(128, (3, 3)))\n",
        "model.add(Activation('relu'))\n",
        "model.add(Dropout(0.25))\n",
        "\n",
        "model.add(Flatten())\n",
        "model.add(Dense(512))\n",
        "model.add(Activation('relu'))\n",
        "model.add(Dropout(0.5))\n",
        "model.add(Dense(num_classes))\n",
        "model.add(Activation('softmax'))\n",
        "\n",
        "model.summary()"
      ],
      "execution_count": 0,
      "outputs": [
        {
          "output_type": "stream",
          "text": [
            "WARNING:tensorflow:From /usr/local/lib/python3.6/dist-packages/keras/backend/tensorflow_backend.py:66: The name tf.get_default_graph is deprecated. Please use tf.compat.v1.get_default_graph instead.\n",
            "\n",
            "WARNING:tensorflow:From /usr/local/lib/python3.6/dist-packages/keras/backend/tensorflow_backend.py:541: The name tf.placeholder is deprecated. Please use tf.compat.v1.placeholder instead.\n",
            "\n",
            "WARNING:tensorflow:From /usr/local/lib/python3.6/dist-packages/keras/backend/tensorflow_backend.py:4432: The name tf.random_uniform is deprecated. Please use tf.random.uniform instead.\n",
            "\n",
            "WARNING:tensorflow:From /usr/local/lib/python3.6/dist-packages/keras/backend/tensorflow_backend.py:4267: The name tf.nn.max_pool is deprecated. Please use tf.nn.max_pool2d instead.\n",
            "\n",
            "WARNING:tensorflow:From /usr/local/lib/python3.6/dist-packages/keras/backend/tensorflow_backend.py:148: The name tf.placeholder_with_default is deprecated. Please use tf.compat.v1.placeholder_with_default instead.\n",
            "\n",
            "WARNING:tensorflow:From /usr/local/lib/python3.6/dist-packages/keras/backend/tensorflow_backend.py:3733: calling dropout (from tensorflow.python.ops.nn_ops) with keep_prob is deprecated and will be removed in a future version.\n",
            "Instructions for updating:\n",
            "Please use `rate` instead of `keep_prob`. Rate should be set to `rate = 1 - keep_prob`.\n",
            "Model: \"sequential_1\"\n",
            "_________________________________________________________________\n",
            "Layer (type)                 Output Shape              Param #   \n",
            "=================================================================\n",
            "conv2d_1 (Conv2D)            (None, 30, 30, 32)        896       \n",
            "_________________________________________________________________\n",
            "activation_1 (Activation)    (None, 30, 30, 32)        0         \n",
            "_________________________________________________________________\n",
            "max_pooling2d_1 (MaxPooling2 (None, 15, 15, 32)        0         \n",
            "_________________________________________________________________\n",
            "conv2d_2 (Conv2D)            (None, 13, 13, 64)        18496     \n",
            "_________________________________________________________________\n",
            "activation_2 (Activation)    (None, 13, 13, 64)        0         \n",
            "_________________________________________________________________\n",
            "max_pooling2d_2 (MaxPooling2 (None, 6, 6, 64)          0         \n",
            "_________________________________________________________________\n",
            "dropout_1 (Dropout)          (None, 6, 6, 64)          0         \n",
            "_________________________________________________________________\n",
            "conv2d_3 (Conv2D)            (None, 4, 4, 128)         73856     \n",
            "_________________________________________________________________\n",
            "activation_3 (Activation)    (None, 4, 4, 128)         0         \n",
            "_________________________________________________________________\n",
            "dropout_2 (Dropout)          (None, 4, 4, 128)         0         \n",
            "_________________________________________________________________\n",
            "flatten_1 (Flatten)          (None, 2048)              0         \n",
            "_________________________________________________________________\n",
            "dense_1 (Dense)              (None, 512)               1049088   \n",
            "_________________________________________________________________\n",
            "activation_4 (Activation)    (None, 512)               0         \n",
            "_________________________________________________________________\n",
            "dropout_3 (Dropout)          (None, 512)               0         \n",
            "_________________________________________________________________\n",
            "dense_2 (Dense)              (None, 10)                5130      \n",
            "_________________________________________________________________\n",
            "activation_5 (Activation)    (None, 10)                0         \n",
            "=================================================================\n",
            "Total params: 1,147,466\n",
            "Trainable params: 1,147,466\n",
            "Non-trainable params: 0\n",
            "_________________________________________________________________\n"
          ],
          "name": "stdout"
        }
      ]
    },
    {
      "cell_type": "code",
      "metadata": {
        "id": "KAesFdeXRLie",
        "colab_type": "code",
        "outputId": "45b318ae-1827-4b0c-9812-a9542c6c1021",
        "colab": {
          "base_uri": "https://localhost:8080/",
          "height": 122
        }
      },
      "source": [
        "# initiate optimizer\n",
        "opt = keras.optimizers.Adam(lr=0.001,beta_1=0.9, beta_2=0.999, epsilon=None, decay=0.0, amsgrad=False)\n",
        "\n",
        "# Let's train the model using optimiser\n",
        "model.compile(loss='categorical_crossentropy',\n",
        "              optimizer=opt,\n",
        "              metrics=['accuracy'])\n",
        "\n",
        "x_train = x_train.astype('float32')\n",
        "x_test = x_test.astype('float32')\n",
        "x_train /= 255\n",
        "x_test /= 255\n",
        "\n",
        "print(\"X_train shape:\", x_train.shape)\n"
      ],
      "execution_count": 0,
      "outputs": [
        {
          "output_type": "stream",
          "text": [
            "WARNING:tensorflow:From /usr/local/lib/python3.6/dist-packages/keras/optimizers.py:793: The name tf.train.Optimizer is deprecated. Please use tf.compat.v1.train.Optimizer instead.\n",
            "\n",
            "WARNING:tensorflow:From /usr/local/lib/python3.6/dist-packages/keras/backend/tensorflow_backend.py:3576: The name tf.log is deprecated. Please use tf.math.log instead.\n",
            "\n",
            "X_train shape: (50000, 32, 32, 3)\n"
          ],
          "name": "stdout"
        }
      ]
    },
    {
      "cell_type": "code",
      "metadata": {
        "id": "ZkTnx01oST40",
        "colab_type": "code",
        "outputId": "acec5c00-72d7-47f9-e5a5-ad7af56b5381",
        "colab": {
          "base_uri": "https://localhost:8080/",
          "height": 1000
        }
      },
      "source": [
        "if not data_augmentation:\n",
        "    print('Not using data augmentation.')\n",
        "    model.fit(x_train, y_train,\n",
        "              batch_size=batch_size,\n",
        "              epochs=epochs,\n",
        "              validation_data=(x_test, y_test),\n",
        "              shuffle=True)\n",
        "else:\n",
        "    print('Using real-time data augmentation.')\n",
        "    datagen = ImageDataGenerator(\n",
        "        featurewise_center=False, \n",
        "        samplewise_center=False,  \n",
        "        featurewise_std_normalization=False, \n",
        "        samplewise_std_normalization=False, \n",
        "        zca_whitening=False,  \n",
        "        zca_epsilon=1e-06,  \n",
        "        rotation_range=0, \n",
        "       \n",
        "        width_shift_range=0.1,\n",
        "        height_shift_range=0.1,\n",
        "        shear_range=0., \n",
        "        zoom_range=0.,  \n",
        "        channel_shift_range=0.,  \n",
        "        \n",
        "        fill_mode='nearest',\n",
        "        cval=0.,\n",
        "        horizontal_flip=True, \n",
        "        vertical_flip=False,  \n",
        "        \n",
        "        rescale=None,        \n",
        "        preprocessing_function=None,\n",
        "        data_format=None,\n",
        "        validation_split=0.0)\n",
        "\n",
        "    datagen.fit(x_train)\n",
        "\n",
        "    # Fit the model on the batches generated by datagen.flow().\n",
        "    history = model.fit_generator(datagen.flow(x_train, y_train,\n",
        "                                     batch_size=batch_size),\n",
        "                        epochs=epochs,\n",
        "                        validation_data=(x_test, y_test),\n",
        "                        workers=4)\n"
      ],
      "execution_count": 0,
      "outputs": [
        {
          "output_type": "stream",
          "text": [
            "Using real-time data augmentation.\n",
            "WARNING:tensorflow:From /usr/local/lib/python3.6/dist-packages/tensorflow/python/ops/math_grad.py:1250: add_dispatch_support.<locals>.wrapper (from tensorflow.python.ops.array_ops) is deprecated and will be removed in a future version.\n",
            "Instructions for updating:\n",
            "Use tf.where in 2.0, which has the same broadcast rule as np.where\n",
            "Epoch 1/55\n",
            "196/196 [==============================] - 40s 206ms/step - loss: 1.7688 - acc: 0.3415 - val_loss: 1.4430 - val_acc: 0.4825\n",
            "Epoch 2/55\n",
            "196/196 [==============================] - 34s 174ms/step - loss: 1.4691 - acc: 0.4658 - val_loss: 1.2353 - val_acc: 0.5587\n",
            "Epoch 3/55\n",
            "196/196 [==============================] - 34s 173ms/step - loss: 1.3432 - acc: 0.5184 - val_loss: 1.1262 - val_acc: 0.6012\n",
            "Epoch 4/55\n",
            "196/196 [==============================] - 34s 173ms/step - loss: 1.2534 - acc: 0.5518 - val_loss: 1.0656 - val_acc: 0.6147\n",
            "Epoch 5/55\n",
            "196/196 [==============================] - 34s 174ms/step - loss: 1.1786 - acc: 0.5790 - val_loss: 1.0698 - val_acc: 0.6201\n",
            "Epoch 6/55\n",
            "196/196 [==============================] - 34s 173ms/step - loss: 1.1313 - acc: 0.6019 - val_loss: 0.9962 - val_acc: 0.6481\n",
            "Epoch 7/55\n",
            "196/196 [==============================] - 34s 174ms/step - loss: 1.0869 - acc: 0.6175 - val_loss: 0.9105 - val_acc: 0.6792\n",
            "Epoch 8/55\n",
            "196/196 [==============================] - 34s 174ms/step - loss: 1.0499 - acc: 0.6293 - val_loss: 0.9050 - val_acc: 0.6815\n",
            "Epoch 9/55\n",
            "196/196 [==============================] - 34s 174ms/step - loss: 1.0180 - acc: 0.6418 - val_loss: 0.8635 - val_acc: 0.6977\n",
            "Epoch 10/55\n",
            "196/196 [==============================] - 34s 174ms/step - loss: 0.9890 - acc: 0.6540 - val_loss: 0.8932 - val_acc: 0.6885\n",
            "Epoch 11/55\n",
            "196/196 [==============================] - 34s 174ms/step - loss: 0.9723 - acc: 0.6600 - val_loss: 0.8218 - val_acc: 0.7127\n",
            "Epoch 12/55\n",
            "196/196 [==============================] - 34s 173ms/step - loss: 0.9465 - acc: 0.6701 - val_loss: 0.8013 - val_acc: 0.7244\n",
            "Epoch 13/55\n",
            "196/196 [==============================] - 34s 173ms/step - loss: 0.9277 - acc: 0.6726 - val_loss: 0.7648 - val_acc: 0.7355\n",
            "Epoch 14/55\n",
            "196/196 [==============================] - 34s 173ms/step - loss: 0.9175 - acc: 0.6775 - val_loss: 0.7906 - val_acc: 0.7221\n",
            "Epoch 15/55\n",
            "196/196 [==============================] - 34s 175ms/step - loss: 0.8935 - acc: 0.6870 - val_loss: 0.7645 - val_acc: 0.7299\n",
            "Epoch 16/55\n",
            "196/196 [==============================] - 34s 171ms/step - loss: 0.8850 - acc: 0.6883 - val_loss: 0.7343 - val_acc: 0.7456\n",
            "Epoch 17/55\n",
            "196/196 [==============================] - 33s 169ms/step - loss: 0.8664 - acc: 0.6975 - val_loss: 0.7714 - val_acc: 0.7278\n",
            "Epoch 18/55\n",
            "196/196 [==============================] - 34s 175ms/step - loss: 0.8587 - acc: 0.6996 - val_loss: 0.6912 - val_acc: 0.7565\n",
            "Epoch 19/55\n",
            "196/196 [==============================] - 34s 171ms/step - loss: 0.8444 - acc: 0.7068 - val_loss: 0.7068 - val_acc: 0.7538\n",
            "Epoch 20/55\n",
            "196/196 [==============================] - 34s 172ms/step - loss: 0.8406 - acc: 0.7065 - val_loss: 0.7164 - val_acc: 0.7524\n",
            "Epoch 21/55\n",
            "196/196 [==============================] - 34s 172ms/step - loss: 0.8258 - acc: 0.7121 - val_loss: 0.7073 - val_acc: 0.7539\n",
            "Epoch 22/55\n",
            "196/196 [==============================] - 34s 172ms/step - loss: 0.8122 - acc: 0.7149 - val_loss: 0.7054 - val_acc: 0.7557\n",
            "Epoch 23/55\n",
            "196/196 [==============================] - 34s 172ms/step - loss: 0.8081 - acc: 0.7179 - val_loss: 0.6638 - val_acc: 0.7683\n",
            "Epoch 24/55\n",
            "196/196 [==============================] - 34s 173ms/step - loss: 0.7994 - acc: 0.7229 - val_loss: 0.6555 - val_acc: 0.7699\n",
            "Epoch 25/55\n",
            "196/196 [==============================] - 33s 170ms/step - loss: 0.7912 - acc: 0.7259 - val_loss: 0.6684 - val_acc: 0.7656\n",
            "Epoch 26/55\n",
            "196/196 [==============================] - 34s 172ms/step - loss: 0.7749 - acc: 0.7304 - val_loss: 0.6631 - val_acc: 0.7691\n",
            "Epoch 27/55\n",
            "196/196 [==============================] - 35s 179ms/step - loss: 0.7723 - acc: 0.7307 - val_loss: 0.6836 - val_acc: 0.7600\n",
            "Epoch 28/55\n",
            "196/196 [==============================] - 36s 183ms/step - loss: 0.7697 - acc: 0.7329 - val_loss: 0.6453 - val_acc: 0.7787\n",
            "Epoch 29/55\n",
            "196/196 [==============================] - 35s 178ms/step - loss: 0.7580 - acc: 0.7362 - val_loss: 0.6788 - val_acc: 0.7653\n",
            "Epoch 30/55\n",
            "196/196 [==============================] - 34s 171ms/step - loss: 0.7559 - acc: 0.7351 - val_loss: 0.6577 - val_acc: 0.7706\n",
            "Epoch 31/55\n",
            "196/196 [==============================] - 34s 172ms/step - loss: 0.7528 - acc: 0.7387 - val_loss: 0.6217 - val_acc: 0.7797\n",
            "Epoch 32/55\n",
            "196/196 [==============================] - 33s 170ms/step - loss: 0.7427 - acc: 0.7411 - val_loss: 0.6147 - val_acc: 0.7842\n",
            "Epoch 33/55\n",
            "196/196 [==============================] - 34s 173ms/step - loss: 0.7350 - acc: 0.7428 - val_loss: 0.6197 - val_acc: 0.7844\n",
            "Epoch 34/55\n",
            "196/196 [==============================] - 34s 172ms/step - loss: 0.7386 - acc: 0.7425 - val_loss: 0.6621 - val_acc: 0.7730\n",
            "Epoch 35/55\n",
            "196/196 [==============================] - 33s 170ms/step - loss: 0.7217 - acc: 0.7473 - val_loss: 0.6066 - val_acc: 0.7875\n",
            "Epoch 36/55\n",
            "196/196 [==============================] - 34s 172ms/step - loss: 0.7255 - acc: 0.7458 - val_loss: 0.6291 - val_acc: 0.7827\n",
            "Epoch 37/55\n",
            "196/196 [==============================] - 33s 170ms/step - loss: 0.7186 - acc: 0.7503 - val_loss: 0.6036 - val_acc: 0.7903\n",
            "Epoch 38/55\n",
            "196/196 [==============================] - 34s 171ms/step - loss: 0.7132 - acc: 0.7507 - val_loss: 0.5904 - val_acc: 0.7970\n",
            "Epoch 39/55\n",
            "196/196 [==============================] - 33s 170ms/step - loss: 0.7162 - acc: 0.7504 - val_loss: 0.6177 - val_acc: 0.7877\n",
            "Epoch 40/55\n",
            "196/196 [==============================] - 33s 170ms/step - loss: 0.7132 - acc: 0.7508 - val_loss: 0.6284 - val_acc: 0.7780\n",
            "Epoch 41/55\n",
            "196/196 [==============================] - 34s 172ms/step - loss: 0.7017 - acc: 0.7531 - val_loss: 0.6056 - val_acc: 0.7926\n",
            "Epoch 42/55\n",
            "196/196 [==============================] - 34s 174ms/step - loss: 0.6947 - acc: 0.7551 - val_loss: 0.5856 - val_acc: 0.7916\n",
            "Epoch 43/55\n",
            "196/196 [==============================] - 34s 174ms/step - loss: 0.6995 - acc: 0.7538 - val_loss: 0.6170 - val_acc: 0.7874\n",
            "Epoch 44/55\n",
            "196/196 [==============================] - 34s 172ms/step - loss: 0.6935 - acc: 0.7574 - val_loss: 0.6039 - val_acc: 0.7928\n",
            "Epoch 45/55\n",
            "196/196 [==============================] - 34s 173ms/step - loss: 0.6782 - acc: 0.7633 - val_loss: 0.5917 - val_acc: 0.7951\n",
            "Epoch 46/55\n",
            "196/196 [==============================] - 34s 171ms/step - loss: 0.6880 - acc: 0.7595 - val_loss: 0.5777 - val_acc: 0.8003\n",
            "Epoch 47/55\n",
            "196/196 [==============================] - 33s 170ms/step - loss: 0.6807 - acc: 0.7619 - val_loss: 0.5879 - val_acc: 0.7947\n",
            "Epoch 48/55\n",
            "196/196 [==============================] - 33s 171ms/step - loss: 0.6747 - acc: 0.7640 - val_loss: 0.5949 - val_acc: 0.7894\n",
            "Epoch 49/55\n",
            "196/196 [==============================] - 34s 171ms/step - loss: 0.6716 - acc: 0.7651 - val_loss: 0.5870 - val_acc: 0.7953\n",
            "Epoch 50/55\n",
            "196/196 [==============================] - 33s 171ms/step - loss: 0.6659 - acc: 0.7670 - val_loss: 0.5678 - val_acc: 0.8031\n",
            "Epoch 51/55\n",
            "196/196 [==============================] - 34s 172ms/step - loss: 0.6589 - acc: 0.7687 - val_loss: 0.5767 - val_acc: 0.8017\n",
            "Epoch 52/55\n",
            "196/196 [==============================] - 34s 173ms/step - loss: 0.6630 - acc: 0.7685 - val_loss: 0.5793 - val_acc: 0.7982\n",
            "Epoch 53/55\n",
            "196/196 [==============================] - 34s 171ms/step - loss: 0.6594 - acc: 0.7697 - val_loss: 0.5702 - val_acc: 0.8049\n",
            "Epoch 54/55\n",
            "196/196 [==============================] - 34s 173ms/step - loss: 0.6585 - acc: 0.7706 - val_loss: 0.6020 - val_acc: 0.7913\n",
            "Epoch 55/55\n",
            "196/196 [==============================] - 33s 171ms/step - loss: 0.6537 - acc: 0.7718 - val_loss: 0.5803 - val_acc: 0.7958\n"
          ],
          "name": "stdout"
        }
      ]
    },
    {
      "cell_type": "code",
      "metadata": {
        "id": "QpmcTLRSR_KI",
        "colab_type": "code",
        "outputId": "046e4fee-1b92-40b4-e704-6fc9eafd2a81",
        "colab": {
          "base_uri": "https://localhost:8080/",
          "height": 85
        }
      },
      "source": [
        "# Save model and weights\n",
        "if not os.path.isdir(save_dir):\n",
        "    os.makedirs(save_dir)\n",
        "model_path = os.path.join(save_dir, model_name)\n",
        "model.save(model_path)\n",
        "print('Saved trained model at %s ' % model_path)\n",
        "\n",
        "# Score trained model.\n",
        "scores = model.evaluate(x_test, y_test, verbose=1)\n",
        "print('Test loss:', scores[0])\n",
        "print('Test accuracy:', scores[1])"
      ],
      "execution_count": 0,
      "outputs": [
        {
          "output_type": "stream",
          "text": [
            "Saved trained model at /content/saved_models/keras_cifar10_trained_model.h5 \n",
            "10000/10000 [==============================] - 1s 122us/step\n",
            "Test loss: 0.5803181800365448\n",
            "Test accuracy: 0.7958\n"
          ],
          "name": "stdout"
        }
      ]
    },
    {
      "cell_type": "code",
      "metadata": {
        "id": "W9L2NemRZ1eV",
        "colab_type": "code",
        "outputId": "cb8fc922-b830-432a-948e-b7384a9246d2",
        "colab": {
          "base_uri": "https://localhost:8080/",
          "height": 590
        }
      },
      "source": [
        "import matplotlib.pyplot as plt\n",
        "# list all data in history\n",
        "print(history.history.keys())\n",
        "# summarize history for accuracy\n",
        "plt.plot(history.history['acc'])\n",
        "plt.plot(history.history['val_acc'])\n",
        "plt.title('model accuracy')\n",
        "plt.ylabel('accuracy')\n",
        "plt.xlabel('epoch')\n",
        "plt.legend(['train', 'test'], loc='upper left')\n",
        "plt.show()\n",
        "# summarize history for loss\n",
        "plt.plot(history.history['loss'])\n",
        "plt.plot(history.history['val_loss'])\n",
        "plt.title('model loss')\n",
        "plt.ylabel('loss')\n",
        "plt.xlabel('epoch')\n",
        "plt.legend(['train', 'test'], loc='upper left')\n",
        "plt.show()"
      ],
      "execution_count": 0,
      "outputs": [
        {
          "output_type": "stream",
          "text": [
            "dict_keys(['val_loss', 'val_acc', 'loss', 'acc'])\n"
          ],
          "name": "stdout"
        },
        {
          "output_type": "display_data",
          "data": {
            "image/png": "[encoded data removed]",
            "text/plain": [
              "<Figure size 432x288 with 1 Axes>"
            ]
          },
          "metadata": {
            "tags": []
          }
        },
        {
          "output_type": "display_data",
          "data": {
            "image/png": "[encoded data removed]",
            "text/plain": [
              "<Figure size 432x288 with 1 Axes>"
            ]
          },
          "metadata": {
            "tags": []
          }
        }
      ]
    }
  ]
}