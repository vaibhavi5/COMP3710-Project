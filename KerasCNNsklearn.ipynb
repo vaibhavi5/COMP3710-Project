{
  "nbformat": 4,
  "nbformat_minor": 0,
  "metadata": {
    "colab": {
      "name": "KerasCNNsklearn.ipynb",
      "provenance": [],
      "collapsed_sections": []
    },
    "kernelspec": {
      "name": "python3",
      "display_name": "Python 3"
    },
    "accelerator": "GPU"
  },
  "cells": [
    {
      "cell_type": "code",
      "metadata": {
        "id": "EKgMJV1BNQ3D",
        "colab_type": "code",
        "outputId": "96b737c5-e85f-43c9-8d22-089d0e0e3d37",
        "colab": {
          "base_uri": "https://localhost:8080/",
          "height": 34
        }
      },
      "source": [
        "from __future__ import print_function\n",
        "import keras\n",
        "import numpy as np\n",
        "from keras import optimizers\n",
        "from sklearn.datasets import fetch_lfw_people\n",
        "from sklearn.model_selection import train_test_split\n",
        "from sklearn.metrics import classification_report\n",
        "from keras.preprocessing.image import ImageDataGenerator\n",
        "from keras.models import Sequential\n",
        "from keras.layers import Dense, Dropout, Activation, Flatten\n",
        "from keras.layers import Conv2D, MaxPooling2D\n",
        "import os\n",
        "from tensorflow.keras.layers import Input, Dense\n",
        "from tensorflow.keras.models import Model\n",
        "import numpy as np"
      ],
      "execution_count": 0,
      "outputs": [
        {
          "output_type": "stream",
          "text": [
            "Using TensorFlow backend.\n"
          ],
          "name": "stderr"
        }
      ]
    },
    {
      "cell_type": "code",
      "metadata": {
        "id": "fUImQeTeP3xR",
        "colab_type": "code",
        "outputId": "e4e2cef0-e821-4a49-c031-71086417ed0d",
        "colab": {
          "base_uri": "https://localhost:8080/",
          "height": 85
        }
      },
      "source": [
        "# Download the data, if not already on disk and load it as numpy arrays\n",
        "lfw_people = fetch_lfw_people(min_faces_per_person=70, resize=0.4)"
      ],
      "execution_count": 0,
      "outputs": [
        {
          "output_type": "stream",
          "text": [
            "Downloading LFW metadata: https://ndownloader.figshare.com/files/5976012\n",
            "Downloading LFW metadata: https://ndownloader.figshare.com/files/5976009\n",
            "Downloading LFW metadata: https://ndownloader.figshare.com/files/5976006\n",
            "Downloading LFW data (~200MB): https://ndownloader.figshare.com/files/5976015\n"
          ],
          "name": "stderr"
        }
      ]
    },
    {
      "cell_type": "code",
      "metadata": {
        "id": "-fBDBjB4PUn2",
        "colab_type": "code",
        "colab": {}
      },
      "source": [
        "batch_size = 256\n",
        "length = 1850\n",
        "depth = 32"
      ],
      "execution_count": 0,
      "outputs": []
    },
    {
      "cell_type": "code",
      "metadata": {
        "id": "bwx6LBo7iqqD",
        "colab_type": "code",
        "outputId": "3abc3344-7b83-4b8c-93c2-82f99430980e",
        "colab": {
          "base_uri": "https://localhost:8080/",
          "height": 360
        }
      },
      "source": [
        "#create the network\n",
        "inputs = Input(shape=(length,))\n",
        "encoded = Dense(1048, activation='relu')(inputs)\n",
        "\n",
        "decoded = Dense(256, activation='sigmoid')(encoded)\n",
        "decoded = Dense(7, activation='softmax')(decoded)\n",
        "\n",
        "\n",
        "#map an input to its reconstruction to create model\n",
        "model = Model(inputs, decoded)\n",
        "\n",
        "#create sub network\n",
        "encoder = Model(inputs, encoded)\n",
        "\n",
        "model.summary()"
      ],
      "execution_count": 0,
      "outputs": [
        {
          "output_type": "stream",
          "text": [
            "WARNING:tensorflow:From /usr/local/lib/python3.6/dist-packages/tensorflow/python/ops/init_ops.py:1251: calling VarianceScaling.__init__ (from tensorflow.python.ops.init_ops) with dtype is deprecated and will be removed in a future version.\n",
            "Instructions for updating:\n",
            "Call initializer instance with the dtype argument instead of passing it to the constructor\n",
            "Model: \"model\"\n",
            "_________________________________________________________________\n",
            "Layer (type)                 Output Shape              Param #   \n",
            "=================================================================\n",
            "input_1 (InputLayer)         [(None, 1850)]            0         \n",
            "_________________________________________________________________\n",
            "dense (Dense)                (None, 1048)              1939848   \n",
            "_________________________________________________________________\n",
            "dense_1 (Dense)              (None, 256)               268544    \n",
            "_________________________________________________________________\n",
            "dense_2 (Dense)              (None, 7)                 1799      \n",
            "=================================================================\n",
            "Total params: 2,210,191\n",
            "Trainable params: 2,210,191\n",
            "Non-trainable params: 0\n",
            "_________________________________________________________________\n"
          ],
          "name": "stdout"
        }
      ]
    },
    {
      "cell_type": "code",
      "metadata": {
        "id": "On2fMC9tUPbE",
        "colab_type": "code",
        "colab": {}
      },
      "source": [
        "# Let's train the model using optimiser\n",
        "model.compile(optimizer='adam', loss='sparse_categorical_crossentropy', metrics=['accuracy'])"
      ],
      "execution_count": 0,
      "outputs": []
    },
    {
      "cell_type": "code",
      "metadata": {
        "id": "TiOoe-nsQK1z",
        "colab_type": "code",
        "outputId": "ff4d03a1-bed9-4ee7-902e-3dd22909aece",
        "colab": {
          "base_uri": "https://localhost:8080/",
          "height": 85
        }
      },
      "source": [
        "# introspect the images arrays to find the shapes (for plotting)\n",
        "n_samples, h, w = lfw_people.images.shape\n",
        "# for machine learning we use the 2 data directly (as relative pixel\n",
        "# positions info is ignored by this model)\n",
        "x = lfw_people.data\n",
        "n_features = x.shape[1]\n",
        "# the label to predict is the id of the person\n",
        "y = lfw_people.target\n",
        "target_names = lfw_people.target_names\n",
        "n_classes = target_names.shape[0]\n",
        "print(\"Total dataset size:\")\n",
        "print(\"n_samples: %d\" % n_samples)\n",
        "print(\"n_features: %d\" % n_features)\n",
        "print(\"n_classes: %d\" % n_classes)"
      ],
      "execution_count": 0,
      "outputs": [
        {
          "output_type": "stream",
          "text": [
            "Total dataset size:\n",
            "n_samples: 1288\n",
            "n_features: 1850\n",
            "n_classes: 7\n"
          ],
          "name": "stdout"
        }
      ]
    },
    {
      "cell_type": "code",
      "metadata": {
        "id": "kvGYKPr6Pxnz",
        "colab_type": "code",
        "colab": {}
      },
      "source": [
        "# Split into a training set and a test set using a stratified k fold\n",
        "x_train, x_test, y_train, y_test = train_test_split(x, y, test_size=0.25, random_state=42)\n"
      ],
      "execution_count": 0,
      "outputs": []
    },
    {
      "cell_type": "code",
      "metadata": {
        "id": "eU-gZGRWbgVS",
        "colab_type": "code",
        "outputId": "9c466b95-d625-41aa-8587-657e1508b0ac",
        "colab": {
          "base_uri": "https://localhost:8080/",
          "height": 34
        }
      },
      "source": [
        "x_train.shape"
      ],
      "execution_count": 0,
      "outputs": [
        {
          "output_type": "execute_result",
          "data": {
            "text/plain": [
              "(966, 1850)"
            ]
          },
          "metadata": {
            "tags": []
          },
          "execution_count": 9
        }
      ]
    },
    {
      "cell_type": "code",
      "metadata": {
        "id": "URqMZmezTOrw",
        "colab_type": "code",
        "outputId": "6188f8c0-cd3d-4b61-d174-2804e60f3f71",
        "colab": {
          "base_uri": "https://localhost:8080/",
          "height": 51
        }
      },
      "source": [
        "'''# Convert class vectors to binary class matrices.\n",
        "y_train = keras.utils.to_categorical(y_train, n_classes)\n",
        "y_test = keras.utils.to_categorical(y_test, n_classes)'''\n",
        "\n",
        "x_train = x_train.astype('float32') / 255.\n",
        "x_test = x_test.astype('float32') / 255.\n",
        "x_train = x_train.reshape((len(x_train), np.prod(x_train.shape[1:])))\n",
        "x_test = x_test.reshape((len(x_test), np.prod(x_test.shape[1:])))\n",
        "\n",
        "print(x_train.shape)\n",
        "print(x_test.shape)"
      ],
      "execution_count": 0,
      "outputs": [
        {
          "output_type": "stream",
          "text": [
            "(966, 1850)\n",
            "(322, 1850)\n"
          ],
          "name": "stdout"
        }
      ]
    },
    {
      "cell_type": "code",
      "metadata": {
        "id": "RKlyvqnKg3LO",
        "colab_type": "code",
        "outputId": "c883c9ce-d710-4cb4-dc94-fe23003de246",
        "colab": {
          "base_uri": "https://localhost:8080/",
          "height": 1000
        }
      },
      "source": [
        "history = model.fit(x_train, y_train, epochs=50, batch_size=32, validation_data=(x_test, y_test))"
      ],
      "execution_count": 0,
      "outputs": [
        {
          "output_type": "stream",
          "text": [
            "Train on 966 samples, validate on 322 samples\n",
            "Epoch 1/50\n",
            "966/966 [==============================] - 1s 999us/sample - loss: 1.8358 - acc: 0.3820 - val_loss: 1.6203 - val_acc: 0.4534\n",
            "Epoch 2/50\n",
            "966/966 [==============================] - 0s 171us/sample - loss: 1.6886 - acc: 0.4110 - val_loss: 1.6240 - val_acc: 0.3851\n",
            "Epoch 3/50\n",
            "966/966 [==============================] - 0s 171us/sample - loss: 1.6332 - acc: 0.4193 - val_loss: 1.5285 - val_acc: 0.5217\n",
            "Epoch 4/50\n",
            "966/966 [==============================] - 0s 167us/sample - loss: 1.5228 - acc: 0.4658 - val_loss: 1.5295 - val_acc: 0.4503\n",
            "Epoch 5/50\n",
            "966/966 [==============================] - 0s 173us/sample - loss: 1.4662 - acc: 0.4648 - val_loss: 1.3942 - val_acc: 0.5186\n",
            "Epoch 6/50\n",
            "966/966 [==============================] - 0s 179us/sample - loss: 1.4053 - acc: 0.5021 - val_loss: 1.2546 - val_acc: 0.5807\n",
            "Epoch 7/50\n",
            "966/966 [==============================] - 0s 183us/sample - loss: 1.2477 - acc: 0.5414 - val_loss: 1.1525 - val_acc: 0.5745\n",
            "Epoch 8/50\n",
            "966/966 [==============================] - 0s 179us/sample - loss: 1.1841 - acc: 0.5507 - val_loss: 1.1257 - val_acc: 0.6335\n",
            "Epoch 9/50\n",
            "966/966 [==============================] - 0s 172us/sample - loss: 1.0745 - acc: 0.6108 - val_loss: 0.9502 - val_acc: 0.6460\n",
            "Epoch 10/50\n",
            "966/966 [==============================] - 0s 174us/sample - loss: 0.9259 - acc: 0.6801 - val_loss: 1.0557 - val_acc: 0.6118\n",
            "Epoch 11/50\n",
            "966/966 [==============================] - 0s 174us/sample - loss: 0.9796 - acc: 0.6418 - val_loss: 1.5087 - val_acc: 0.5248\n",
            "Epoch 12/50\n",
            "966/966 [==============================] - 0s 181us/sample - loss: 0.9430 - acc: 0.6770 - val_loss: 0.8506 - val_acc: 0.7484\n",
            "Epoch 13/50\n",
            "966/966 [==============================] - 0s 172us/sample - loss: 0.7825 - acc: 0.7205 - val_loss: 0.9012 - val_acc: 0.6925\n",
            "Epoch 14/50\n",
            "966/966 [==============================] - 0s 173us/sample - loss: 0.8347 - acc: 0.7164 - val_loss: 0.8203 - val_acc: 0.7298\n",
            "Epoch 15/50\n",
            "966/966 [==============================] - 0s 168us/sample - loss: 0.6875 - acc: 0.7702 - val_loss: 0.7037 - val_acc: 0.7609\n",
            "Epoch 16/50\n",
            "966/966 [==============================] - 0s 171us/sample - loss: 0.7959 - acc: 0.7195 - val_loss: 0.7316 - val_acc: 0.7422\n",
            "Epoch 17/50\n",
            "966/966 [==============================] - 0s 175us/sample - loss: 0.6869 - acc: 0.7660 - val_loss: 0.8889 - val_acc: 0.6739\n",
            "Epoch 18/50\n",
            "966/966 [==============================] - 0s 185us/sample - loss: 0.6993 - acc: 0.7598 - val_loss: 0.7091 - val_acc: 0.7795\n",
            "Epoch 19/50\n",
            "966/966 [==============================] - 0s 171us/sample - loss: 0.5900 - acc: 0.8064 - val_loss: 0.6740 - val_acc: 0.7888\n",
            "Epoch 20/50\n",
            "966/966 [==============================] - 0s 182us/sample - loss: 0.5434 - acc: 0.8106 - val_loss: 0.6460 - val_acc: 0.7826\n",
            "Epoch 21/50\n",
            "966/966 [==============================] - 0s 170us/sample - loss: 0.5529 - acc: 0.8178 - val_loss: 1.0071 - val_acc: 0.6770\n",
            "Epoch 22/50\n",
            "966/966 [==============================] - 0s 173us/sample - loss: 0.5846 - acc: 0.7971 - val_loss: 0.8015 - val_acc: 0.7205\n",
            "Epoch 23/50\n",
            "966/966 [==============================] - 0s 179us/sample - loss: 0.5859 - acc: 0.7867 - val_loss: 0.6433 - val_acc: 0.7950\n",
            "Epoch 24/50\n",
            "966/966 [==============================] - 0s 192us/sample - loss: 0.5517 - acc: 0.8023 - val_loss: 0.6943 - val_acc: 0.8043\n",
            "Epoch 25/50\n",
            "966/966 [==============================] - 0s 177us/sample - loss: 0.5106 - acc: 0.8230 - val_loss: 0.6907 - val_acc: 0.7733\n",
            "Epoch 26/50\n",
            "966/966 [==============================] - 0s 176us/sample - loss: 0.5500 - acc: 0.8137 - val_loss: 0.6173 - val_acc: 0.7950\n",
            "Epoch 27/50\n",
            "966/966 [==============================] - 0s 170us/sample - loss: 0.4626 - acc: 0.8478 - val_loss: 1.1871 - val_acc: 0.5745\n",
            "Epoch 28/50\n",
            "966/966 [==============================] - 0s 175us/sample - loss: 0.5094 - acc: 0.8157 - val_loss: 0.8978 - val_acc: 0.6925\n",
            "Epoch 29/50\n",
            "966/966 [==============================] - 0s 168us/sample - loss: 0.4005 - acc: 0.8685 - val_loss: 0.6142 - val_acc: 0.8137\n",
            "Epoch 30/50\n",
            "966/966 [==============================] - 0s 180us/sample - loss: 0.3740 - acc: 0.8727 - val_loss: 0.6020 - val_acc: 0.8075\n",
            "Epoch 31/50\n",
            "966/966 [==============================] - 0s 180us/sample - loss: 0.4542 - acc: 0.8458 - val_loss: 0.6515 - val_acc: 0.7857\n",
            "Epoch 32/50\n",
            "966/966 [==============================] - 0s 176us/sample - loss: 0.5169 - acc: 0.8230 - val_loss: 0.6490 - val_acc: 0.8075\n",
            "Epoch 33/50\n",
            "966/966 [==============================] - 0s 172us/sample - loss: 0.4517 - acc: 0.8416 - val_loss: 0.7989 - val_acc: 0.7702\n",
            "Epoch 34/50\n",
            "966/966 [==============================] - 0s 171us/sample - loss: 0.4760 - acc: 0.8416 - val_loss: 0.6658 - val_acc: 0.8043\n",
            "Epoch 35/50\n",
            "966/966 [==============================] - 0s 169us/sample - loss: 0.3811 - acc: 0.8716 - val_loss: 0.7607 - val_acc: 0.7795\n",
            "Epoch 36/50\n",
            "966/966 [==============================] - 0s 183us/sample - loss: 0.3664 - acc: 0.8841 - val_loss: 0.6212 - val_acc: 0.8012\n",
            "Epoch 37/50\n",
            "966/966 [==============================] - 0s 167us/sample - loss: 0.3519 - acc: 0.8830 - val_loss: 0.5906 - val_acc: 0.8354\n",
            "Epoch 38/50\n",
            "966/966 [==============================] - 0s 179us/sample - loss: 0.3933 - acc: 0.8571 - val_loss: 0.5771 - val_acc: 0.8354\n",
            "Epoch 39/50\n",
            "966/966 [==============================] - 0s 177us/sample - loss: 0.3028 - acc: 0.9017 - val_loss: 0.7200 - val_acc: 0.7733\n",
            "Epoch 40/50\n",
            "966/966 [==============================] - 0s 176us/sample - loss: 0.3092 - acc: 0.9058 - val_loss: 0.5839 - val_acc: 0.8416\n",
            "Epoch 41/50\n",
            "966/966 [==============================] - 0s 175us/sample - loss: 0.3043 - acc: 0.9027 - val_loss: 0.6228 - val_acc: 0.8137\n",
            "Epoch 42/50\n",
            "966/966 [==============================] - 0s 178us/sample - loss: 0.2866 - acc: 0.9068 - val_loss: 0.5645 - val_acc: 0.8416\n",
            "Epoch 43/50\n",
            "966/966 [==============================] - 0s 167us/sample - loss: 0.2924 - acc: 0.9089 - val_loss: 0.5722 - val_acc: 0.8385\n",
            "Epoch 44/50\n",
            "966/966 [==============================] - 0s 166us/sample - loss: 0.2438 - acc: 0.9255 - val_loss: 0.5835 - val_acc: 0.8292\n",
            "Epoch 45/50\n",
            "966/966 [==============================] - 0s 175us/sample - loss: 0.3276 - acc: 0.8851 - val_loss: 0.6152 - val_acc: 0.8106\n",
            "Epoch 46/50\n",
            "966/966 [==============================] - 0s 170us/sample - loss: 0.2619 - acc: 0.9182 - val_loss: 0.5514 - val_acc: 0.8447\n",
            "Epoch 47/50\n",
            "966/966 [==============================] - 0s 182us/sample - loss: 0.2427 - acc: 0.9255 - val_loss: 0.8000 - val_acc: 0.7298\n",
            "Epoch 48/50\n",
            "966/966 [==============================] - 0s 191us/sample - loss: 0.2649 - acc: 0.9110 - val_loss: 0.5989 - val_acc: 0.8354\n",
            "Epoch 49/50\n",
            "966/966 [==============================] - 0s 175us/sample - loss: 0.2386 - acc: 0.9203 - val_loss: 0.7070 - val_acc: 0.7981\n",
            "Epoch 50/50\n",
            "966/966 [==============================] - 0s 173us/sample - loss: 0.3173 - acc: 0.8861 - val_loss: 0.7022 - val_acc: 0.7950\n"
          ],
          "name": "stdout"
        }
      ]
    },
    {
      "cell_type": "code",
      "metadata": {
        "id": "Mp2CcWF5gXiz",
        "colab_type": "code",
        "outputId": "de41ade5-307d-4fc8-cd13-192ed4ab9753",
        "colab": {
          "base_uri": "https://localhost:8080/",
          "height": 34
        }
      },
      "source": [
        "loss, acc = model.evaluate(x_test, y_test)"
      ],
      "execution_count": 0,
      "outputs": [
        {
          "output_type": "stream",
          "text": [
            "322/322 [==============================] - 0s 95us/sample - loss: 0.7022 - acc: 0.7950\n"
          ],
          "name": "stdout"
        }
      ]
    },
    {
      "cell_type": "code",
      "metadata": {
        "id": "okuzEGDRuzK7",
        "colab_type": "code",
        "colab": {}
      },
      "source": [
        "#Graph - accuracy \n",
        "z = np.reshape(x_test, (322,50,37))"
      ],
      "execution_count": 0,
      "outputs": []
    },
    {
      "cell_type": "code",
      "metadata": {
        "id": "HcO7s2LQvhpK",
        "colab_type": "code",
        "outputId": "0e812155-e11b-4133-942f-84d82f3e0256",
        "colab": {
          "base_uri": "https://localhost:8080/",
          "height": 34
        }
      },
      "source": [
        "x_test.shape"
      ],
      "execution_count": 0,
      "outputs": [
        {
          "output_type": "execute_result",
          "data": {
            "text/plain": [
              "(322, 1850)"
            ]
          },
          "metadata": {
            "tags": []
          },
          "execution_count": 14
        }
      ]
    },
    {
      "cell_type": "code",
      "metadata": {
        "id": "xJU24wHpY3gB",
        "colab_type": "code",
        "outputId": "e82b0841-19d1-4e01-c69a-15c4977828ba",
        "colab": {
          "base_uri": "https://localhost:8080/",
          "height": 590
        }
      },
      "source": [
        "import matplotlib.pyplot as plt\n",
        "# list all data in history\n",
        "print(history.history.keys())\n",
        "# summarize history for accuracy\n",
        "plt.plot(history.history['acc'])\n",
        "plt.plot(history.history['val_acc'])\n",
        "plt.title('model accuracy')\n",
        "plt.ylabel('accuracy')\n",
        "plt.xlabel('epoch')\n",
        "plt.legend(['train', 'test'], loc='upper left')\n",
        "plt.show()\n",
        "# summarize history for loss\n",
        "plt.plot(history.history['loss'])\n",
        "plt.plot(history.history['val_loss'])\n",
        "plt.title('model loss')\n",
        "plt.ylabel('loss')\n",
        "plt.xlabel('epoch')\n",
        "plt.legend(['train', 'test'], loc='upper left')\n",
        "plt.show()"
      ],
      "execution_count": 0,
      "outputs": [
        {
          "output_type": "stream",
          "text": [
            "dict_keys(['loss', 'acc', 'val_loss', 'val_acc'])\n"
          ],
          "name": "stdout"
        },
        {
          "output_type": "display_data",
          "data": {
            "image/png": "[encoded data removed]",
            "text/plain": [
              "<Figure size 432x288 with 1 Axes>"
            ]
          },
          "metadata": {
            "tags": []
          }
        },
        {
          "output_type": "display_data",
          "data": {
            "image/png": "[encoded data removed]",
            "text/plain": [
              "<Figure size 432x288 with 1 Axes>"
            ]
          },
          "metadata": {
            "tags": []
          }
        }
      ]
    },
    {
      "cell_type": "code",
      "metadata": {
        "id": "YoVemb2qvURV",
        "colab_type": "code",
        "outputId": "c7503981-0980-471b-da29-d840d0041288",
        "colab": {
          "base_uri": "https://localhost:8080/",
          "height": 286
        }
      },
      "source": [
        "plt.imshow(z[99,:,:])"
      ],
      "execution_count": 0,
      "outputs": [
        {
          "output_type": "execute_result",
          "data": {
            "text/plain": [
              "<matplotlib.image.AxesImage at 0x7f3c504a8be0>"
            ]
          },
          "metadata": {
            "tags": []
          },
          "execution_count": 17
        },
        {
          "output_type": "display_data",
          "data": {
            "image/png": "[encoded data removed]",
            "text/plain": [
              "<Figure size 432x288 with 1 Axes>"
            ]
          },
          "metadata": {
            "tags": []
          }
        }
      ]
    },
    {
      "cell_type": "code",
      "metadata": {
        "id": "EoMJMbDUZjOn",
        "colab_type": "code",
        "colab": {}
      },
      "source": [
        ""
      ],
      "execution_count": 0,
      "outputs": []
    }
  ]
}