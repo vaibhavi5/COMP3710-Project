{
  "nbformat": 4,
  "nbformat_minor": 0,
  "metadata": {
    "colab": {
      "name": "chaosI1.ipynb",
      "provenance": [],
      "collapsed_sections": []
    },
    "kernelspec": {
      "name": "python3",
      "display_name": "Python 3"
    }
  },
  "cells": [
    {
      "cell_type": "code",
      "metadata": {
        "id": "clUD4nucOVSx",
        "colab_type": "code",
        "outputId": "83ac69d5-5fb2-4788-ee5b-ac48d5187beb",
        "colab": {
          "base_uri": "https://localhost:8080/",
          "height": 34
        }
      },
      "source": [
        "import numpy as np\n",
        "import matplotlib.pyplot as plt\n",
        "\n",
        "n = 3\n",
        "k = np.arange(n)\n",
        "points = np.exp(2.0*np.pi*1j*k/n)\n",
        "print(points)"
      ],
      "execution_count": 0,
      "outputs": [
        {
          "output_type": "stream",
          "text": [
            "[ 1. +0.j        -0.5+0.8660254j -0.5-0.8660254j]\n"
          ],
          "name": "stdout"
        }
      ]
    },
    {
      "cell_type": "markdown",
      "metadata": {
        "id": "EWSyv2HZP7Yw",
        "colab_type": "text"
      },
      "source": [
        "Check to see if points lie on unit circle"
      ]
    },
    {
      "cell_type": "code",
      "metadata": {
        "id": "fHWcfp-_P1lu",
        "colab_type": "code",
        "outputId": "5941545d-4df2-45f0-b2c0-ca19ffdeee51",
        "colab": {
          "base_uri": "https://localhost:8080/",
          "height": 231
        }
      },
      "source": [
        "#unit circle\n",
        "\n",
        "res = 100 #resoulution for the circle\n",
        "w = np.arange(res)\n",
        "circle_points = np.exp(2.0*np.pi*1j*w/res)\n",
        "\n",
        "figure = plt.figure(figsize=(3,3))\n",
        "\n",
        "#Randomly pick a start point\n",
        "start = 0.5 + 0.6j\n",
        "\n",
        "plt.plot(np.real(circle_points), np.imag(circle_points), \"b-\")\n",
        "plt.plot(np.real(points), np.imag(points), \"r.\")\n",
        "plt.plot(np.real(start), np.imag(start), \"g.\")"
      ],
      "execution_count": 0,
      "outputs": [
        {
          "output_type": "execute_result",
          "data": {
            "text/plain": [
              "[<matplotlib.lines.Line2D at 0x7f62e45d8518>]"
            ]
          },
          "metadata": {
            "tags": []
          },
          "execution_count": 34
        },
        {
          "output_type": "display_data",
          "data": {
            "image/png": "[encoded data removed]",
            "text/plain": [
              "<Figure size 216x216 with 1 Axes>"
            ]
          },
          "metadata": {
            "tags": []
          }
        }
      ]
    },
    {
      "cell_type": "markdown",
      "metadata": {
        "id": "WbFPfT9rSSY-",
        "colab_type": "text"
      },
      "source": [
        "Now compute new points from random choices of landmark points"
      ]
    },
    {
      "cell_type": "code",
      "metadata": {
        "id": "bPqK1tP_QGb3",
        "colab_type": "code",
        "outputId": "28e74114-f634-4341-b300-eb383bfce48e",
        "colab": {
          "base_uri": "https://localhost:8080/",
          "height": 401
        }
      },
      "source": [
        "iterations = 10\n",
        "def nextPoint(point):\n",
        "  '''\n",
        "  Choose a random point from a set of landmarks and given start position called point\n",
        "  Create new point half way inbetween\n",
        "  '''\n",
        "  chosen = np.random.choice(points)\n",
        "  print(chosen)\n",
        "  vector = chosen-point\n",
        "  return point + vector/2.0\n",
        "\n",
        "figure = plt.figure(figsize=(3,3))\n",
        "\n",
        "current_point = start\n",
        "for iteration in range(iterations):\n",
        "  next_point = nextPoint(current_point)\n",
        "  current_point = next_point\n",
        "\n",
        "plt.plot(np.real(circle_points), np.imag(circle_points), \"b-\")\n",
        "plt.plot(np.real(points), np.imag(points), \"r.\")"
      ],
      "execution_count": 0,
      "outputs": [
        {
          "output_type": "stream",
          "text": [
            "(-0.4999999999999998+0.8660254037844387j)\n",
            "(1+0j)\n",
            "(-0.5000000000000004-0.8660254037844384j)\n",
            "(-0.4999999999999998+0.8660254037844387j)\n",
            "(-0.5000000000000004-0.8660254037844384j)\n",
            "(-0.4999999999999998+0.8660254037844387j)\n",
            "(-0.4999999999999998+0.8660254037844387j)\n",
            "(-0.5000000000000004-0.8660254037844384j)\n",
            "(-0.5000000000000004-0.8660254037844384j)\n",
            "(-0.5000000000000004-0.8660254037844384j)\n"
          ],
          "name": "stdout"
        },
        {
          "output_type": "execute_result",
          "data": {
            "text/plain": [
              "[<matplotlib.lines.Line2D at 0x7f62e46b1dd8>]"
            ]
          },
          "metadata": {
            "tags": []
          },
          "execution_count": 35
        },
        {
          "output_type": "display_data",
          "data": {
            "image/png": "[encoded data removed]",
            "text/plain": [
              "<Figure size 216x216 with 1 Axes>"
            ]
          },
          "metadata": {
            "tags": []
          }
        }
      ]
    },
    {
      "cell_type": "code",
      "metadata": {
        "id": "4i4Is4UCUW6h",
        "colab_type": "code",
        "colab": {}
      },
      "source": [
        ""
      ],
      "execution_count": 0,
      "outputs": []
    }
  ]
}