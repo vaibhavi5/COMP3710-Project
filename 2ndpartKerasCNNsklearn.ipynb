{
  "nbformat": 4,
  "nbformat_minor": 0,
  "metadata": {
    "colab": {
      "name": "2ndpartKerasCNNsklearn.ipynb",
      "provenance": [],
      "collapsed_sections": []
    },
    "kernelspec": {
      "name": "python3",
      "display_name": "Python 3"
    },
    "accelerator": "GPU"
  },
  "cells": [
    {
      "cell_type": "code",
      "metadata": {
        "id": "EKgMJV1BNQ3D",
        "colab_type": "code",
        "colab": {}
      },
      "source": [
        "from __future__ import print_function\n",
        "import keras\n",
        "import numpy as np\n",
        "from keras import optimizers\n",
        "from keras import models\n",
        "from sklearn.datasets import fetch_lfw_people\n",
        "from sklearn.model_selection import train_test_split\n",
        "from sklearn.metrics import classification_report\n",
        "from keras.preprocessing.image import ImageDataGenerator\n",
        "from keras.models import Sequential\n",
        "from keras.layers import Dense, Dropout, Activation, Flatten\n",
        "from keras.layers import Conv2D, MaxPooling2D\n",
        "import os\n",
        "from tensorflow.keras.layers import Input, Dense\n",
        "from tensorflow.keras.models import Model\n",
        "import numpy as np"
      ],
      "execution_count": 0,
      "outputs": []
    },
    {
      "cell_type": "code",
      "metadata": {
        "id": "fUImQeTeP3xR",
        "colab_type": "code",
        "outputId": "40ff4afd-342e-4b9f-8609-0686f6d7b709",
        "colab": {
          "base_uri": "https://localhost:8080/",
          "height": 51
        }
      },
      "source": [
        "#Load the data\n",
        "lfw_people = fetch_lfw_people(min_faces_per_person=70, resize=0.4)\n",
        "\n",
        "lfw_people.images.shape #Shape of the image and shape of the image\n",
        "\n",
        "X = lfw_people.data \n",
        "y = lfw_people.target \n",
        "\n",
        "print(X.shape) #(1288,1850)\n",
        "print(y.shape) #(1288,)"
      ],
      "execution_count": 0,
      "outputs": [
        {
          "output_type": "stream",
          "text": [
            "(1288, 1850)\n",
            "(1288,)\n"
          ],
          "name": "stdout"
        }
      ]
    },
    {
      "cell_type": "code",
      "metadata": {
        "id": "uxcQugEtQ26e",
        "colab_type": "code",
        "colab": {}
      },
      "source": [
        "#Train - Test Split\n",
        "X_train, X_test, y_train, y_test = train_test_split(X, y, test_size=0.25, random_state=42)"
      ],
      "execution_count": 0,
      "outputs": []
    },
    {
      "cell_type": "code",
      "metadata": {
        "id": "8aGyVXR5Q5SJ",
        "colab_type": "code",
        "outputId": "9b4ac954-ce2c-40aa-b6c7-246adaba6753",
        "colab": {
          "base_uri": "https://localhost:8080/",
          "height": 51
        }
      },
      "source": [
        "#Data Preprocessing\n",
        "print(\"Image Size:\", lfw_people.images.shape)\n",
        "print(\"Current Image size:\", X_train.shape)\n",
        "X_test.shape\n",
        "\n",
        "from keras.utils import to_categorical\n",
        "\n",
        "X_train = X_train.reshape((966, 50, 37))\n",
        "X_train = X_train.astype('float32')/255\n",
        "\n",
        "X_test = X_test.reshape((322, 50, 37))\n",
        "X_test = X_test.astype('float32')/255\n",
        "\n",
        "y_train = to_categorical(y_train)\n",
        "y_test = to_categorical(y_test)"
      ],
      "execution_count": 0,
      "outputs": [
        {
          "output_type": "stream",
          "text": [
            "Image Size: (1288, 50, 37)\n",
            "Current Image size: (966, 1850)\n"
          ],
          "name": "stdout"
        }
      ]
    },
    {
      "cell_type": "code",
      "metadata": {
        "id": "-fBDBjB4PUn2",
        "colab_type": "code",
        "outputId": "77cec5ad-70a8-48d3-f4f9-18c311c24803",
        "colab": {
          "base_uri": "https://localhost:8080/",
          "height": 286
        }
      },
      "source": [
        "#Image Visualization\n",
        "X_train[1].shape #(50, 37)\n",
        "\n",
        "img = X_train[9]\n",
        "\n",
        "import matplotlib.pyplot as plt\n",
        "plt.imshow(img )\n",
        "plt.show"
      ],
      "execution_count": 0,
      "outputs": [
        {
          "output_type": "execute_result",
          "data": {
            "text/plain": [
              "<function matplotlib.pyplot.show>"
            ]
          },
          "metadata": {
            "tags": []
          },
          "execution_count": 9
        },
        {
          "output_type": "display_data",
          "data": {
            "image/png": "[encoded data removed]",
            "text/plain": [
              "<Figure size 432x288 with 1 Axes>"
            ]
          },
          "metadata": {
            "tags": []
          }
        }
      ]
    },
    {
      "cell_type": "code",
      "metadata": {
        "id": "c2UiJ_Gvro-O",
        "colab_type": "code",
        "outputId": "4144fbb8-ecfa-47d0-f955-8badbbc97596",
        "colab": {
          "base_uri": "https://localhost:8080/",
          "height": 547
        }
      },
      "source": [
        "from keras import models\n",
        "from keras import layers\n",
        "\n",
        "#Reshaping the Images\n",
        "X_train = X_train.reshape((966, 50, 37, 1))\n",
        "X_test = X_test.reshape((322, 50, 37, 1))\n",
        "\n",
        "#Designing the model\n",
        "\n",
        "model = models.Sequential()\n",
        "model.add(layers.Conv2D(32, (3,3), activation='relu', input_shape=(50,37,1)))\n",
        "model.add(layers.MaxPooling2D((2,2)))\n",
        "model.add(layers.Conv2D(32, (3,3), activation='relu'))\n",
        "model.add(layers.MaxPooling2D((2,2)))\n",
        "model.add(layers.Conv2D(32, (3,3), activation='relu'))\n",
        "\n",
        "#Adding a classifier\n",
        "\n",
        "model.add(layers.Flatten())\n",
        "model.add(layers.Dense(64, activation='relu'))\n",
        "model.add(layers.Dense(7, activation='softmax'))\n",
        "\n",
        "model.summary()"
      ],
      "execution_count": 0,
      "outputs": [
        {
          "output_type": "stream",
          "text": [
            "WARNING:tensorflow:From /usr/local/lib/python3.6/dist-packages/keras/backend/tensorflow_backend.py:541: The name tf.placeholder is deprecated. Please use tf.compat.v1.placeholder instead.\n",
            "\n",
            "WARNING:tensorflow:From /usr/local/lib/python3.6/dist-packages/keras/backend/tensorflow_backend.py:4432: The name tf.random_uniform is deprecated. Please use tf.random.uniform instead.\n",
            "\n",
            "WARNING:tensorflow:From /usr/local/lib/python3.6/dist-packages/keras/backend/tensorflow_backend.py:4267: The name tf.nn.max_pool is deprecated. Please use tf.nn.max_pool2d instead.\n",
            "\n",
            "Model: \"sequential_2\"\n",
            "_________________________________________________________________\n",
            "Layer (type)                 Output Shape              Param #   \n",
            "=================================================================\n",
            "conv2d_1 (Conv2D)            (None, 48, 35, 32)        320       \n",
            "_________________________________________________________________\n",
            "max_pooling2d_1 (MaxPooling2 (None, 24, 17, 32)        0         \n",
            "_________________________________________________________________\n",
            "conv2d_2 (Conv2D)            (None, 22, 15, 32)        9248      \n",
            "_________________________________________________________________\n",
            "max_pooling2d_2 (MaxPooling2 (None, 11, 7, 32)         0         \n",
            "_________________________________________________________________\n",
            "conv2d_3 (Conv2D)            (None, 9, 5, 32)          9248      \n",
            "_________________________________________________________________\n",
            "flatten_1 (Flatten)          (None, 1440)              0         \n",
            "_________________________________________________________________\n",
            "dense_1 (Dense)              (None, 64)                92224     \n",
            "_________________________________________________________________\n",
            "dense_2 (Dense)              (None, 7)                 455       \n",
            "=================================================================\n",
            "Total params: 111,495\n",
            "Trainable params: 111,495\n",
            "Non-trainable params: 0\n",
            "_________________________________________________________________\n"
          ],
          "name": "stdout"
        }
      ]
    },
    {
      "cell_type": "code",
      "metadata": {
        "id": "On2fMC9tUPbE",
        "colab_type": "code",
        "outputId": "b6e1aa9b-bfa3-450d-9f1e-4869ddc27a72",
        "colab": {
          "base_uri": "https://localhost:8080/",
          "height": 870
        }
      },
      "source": [
        "#Training\n",
        "model.compile(optimizer='Adam', loss='categorical_crossentropy', metrics=['acc'])\n",
        "\n",
        "from keras import optimizers\n",
        "\n",
        "history = model.fit(X_train, y_train, epochs=20, batch_size=16)"
      ],
      "execution_count": 0,
      "outputs": [
        {
          "output_type": "stream",
          "text": [
            "WARNING:tensorflow:From /usr/local/lib/python3.6/dist-packages/keras/optimizers.py:793: The name tf.train.Optimizer is deprecated. Please use tf.compat.v1.train.Optimizer instead.\n",
            "\n",
            "WARNING:tensorflow:From /usr/local/lib/python3.6/dist-packages/keras/backend/tensorflow_backend.py:3576: The name tf.log is deprecated. Please use tf.math.log instead.\n",
            "\n",
            "WARNING:tensorflow:From /usr/local/lib/python3.6/dist-packages/tensorflow/python/ops/math_grad.py:1250: add_dispatch_support.<locals>.wrapper (from tensorflow.python.ops.array_ops) is deprecated and will be removed in a future version.\n",
            "Instructions for updating:\n",
            "Use tf.where in 2.0, which has the same broadcast rule as np.where\n",
            "WARNING:tensorflow:From /usr/local/lib/python3.6/dist-packages/keras/backend/tensorflow_backend.py:1033: The name tf.assign_add is deprecated. Please use tf.compat.v1.assign_add instead.\n",
            "\n",
            "Epoch 1/20\n",
            "966/966 [==============================] - 7s 7ms/step - loss: 1.7365 - acc: 0.3975\n",
            "Epoch 2/20\n",
            "966/966 [==============================] - 0s 504us/step - loss: 1.7042 - acc: 0.3975\n",
            "Epoch 3/20\n",
            "966/966 [==============================] - 1s 543us/step - loss: 1.6222 - acc: 0.3996\n",
            "Epoch 4/20\n",
            "966/966 [==============================] - 0s 515us/step - loss: 1.3813 - acc: 0.4959\n",
            "Epoch 5/20\n",
            "966/966 [==============================] - 0s 502us/step - loss: 1.0970 - acc: 0.6097\n",
            "Epoch 6/20\n",
            "966/966 [==============================] - 0s 492us/step - loss: 0.8617 - acc: 0.7340\n",
            "Epoch 7/20\n",
            "966/966 [==============================] - 0s 506us/step - loss: 0.7365 - acc: 0.7640\n",
            "Epoch 8/20\n",
            "966/966 [==============================] - 0s 502us/step - loss: 0.6098 - acc: 0.7899\n",
            "Epoch 9/20\n",
            "966/966 [==============================] - 0s 493us/step - loss: 0.5079 - acc: 0.8364\n",
            "Epoch 10/20\n",
            "966/966 [==============================] - 0s 504us/step - loss: 0.4686 - acc: 0.8375\n",
            "Epoch 11/20\n",
            "966/966 [==============================] - 0s 494us/step - loss: 0.3988 - acc: 0.8789\n",
            "Epoch 12/20\n",
            "966/966 [==============================] - 0s 511us/step - loss: 0.3311 - acc: 0.8913\n",
            "Epoch 13/20\n",
            "966/966 [==============================] - 0s 502us/step - loss: 0.3050 - acc: 0.8986\n",
            "Epoch 14/20\n",
            "966/966 [==============================] - 0s 514us/step - loss: 0.2626 - acc: 0.9130\n",
            "Epoch 15/20\n",
            "966/966 [==============================] - 0s 501us/step - loss: 0.2533 - acc: 0.9172\n",
            "Epoch 16/20\n",
            "966/966 [==============================] - 1s 532us/step - loss: 0.1722 - acc: 0.9410\n",
            "Epoch 17/20\n",
            "966/966 [==============================] - 0s 498us/step - loss: 0.1196 - acc: 0.9648\n",
            "Epoch 18/20\n",
            "966/966 [==============================] - 0s 517us/step - loss: 0.1400 - acc: 0.9513\n",
            "Epoch 19/20\n",
            "966/966 [==============================] - 0s 499us/step - loss: 0.1032 - acc: 0.9741\n",
            "Epoch 20/20\n",
            "966/966 [==============================] - 0s 509us/step - loss: 0.0639 - acc: 0.9834\n"
          ],
          "name": "stdout"
        }
      ]
    },
    {
      "cell_type": "code",
      "metadata": {
        "id": "TiOoe-nsQK1z",
        "colab_type": "code",
        "outputId": "db16e603-84da-4205-ec43-c0030b97bfee",
        "colab": {
          "base_uri": "https://localhost:8080/",
          "height": 51
        }
      },
      "source": [
        "#Testing\n",
        "test_loss, test_acc = model.evaluate(X_test, y_test)\n",
        "print(\"Test_acc:\", test_acc)\n"
      ],
      "execution_count": 0,
      "outputs": [
        {
          "output_type": "stream",
          "text": [
            "322/322 [==============================] - 0s 326us/step\n",
            "Test_acc: 0.8819875776397516\n"
          ],
          "name": "stdout"
        }
      ]
    },
    {
      "cell_type": "code",
      "metadata": {
        "id": "EG5umciHguS3",
        "colab_type": "code",
        "colab": {}
      },
      "source": [
        "#Displaying curves of loss and accuracy\n",
        "from keras.preprocessing.image import ImageDataGenerator\n",
        "acc = history.history['acc']\n",
        "loss = history.history['loss']\n",
        "\n",
        "epochs = range(1, len(acc) + 1)\n",
        "\n",
        "plt.plot(epochs, acc, 'b', label='Training acc')\n",
        "plt.plot(epochs, loss, label='Training Loss')\n",
        "plt.show()"
      ],
      "execution_count": 0,
      "outputs": []
    },
    {
      "cell_type": "code",
      "metadata": {
        "id": "GT__Zvu7SKJM",
        "colab_type": "code",
        "colab": {}
      },
      "source": [
        ""
      ],
      "execution_count": 0,
      "outputs": []
    }
  ]
}